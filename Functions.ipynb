{
  "nbformat": 4,
  "nbformat_minor": 0,
  "metadata": {
    "colab": {
      "provenance": []
    },
    "kernelspec": {
      "name": "python3",
      "display_name": "Python 3"
    },
    "language_info": {
      "name": "python"
    }
  },
  "cells": [
    {
      "cell_type": "markdown",
      "source": [
        "# Theory Questions:"
      ],
      "metadata": {
        "id": "LGVK5N1mX5cN"
      }
    },
    {
      "cell_type": "markdown",
      "source": [
        "1. What is the difference between a function and a method in Python?\n",
        "  - A function in Python is a block of code that performs a specific task when called. Functions are the building blocks of Python programs.\n",
        "      - Examples of Python functions : - Recursion: A function that calls itself, which helps loop through data over and over again to get a result.\n",
        "\n",
        "   - In Python, a method is a function that is associated with an object or a class, defining the behavior and actions that objects of that class can perform.\n",
        "      - Example of python method :- The first argument of a method defined within a class is conventionally named self. This self argument refers to the object (instance) on which the method is being called. Python automatically passes the object as the first argument when you call the method."
      ],
      "metadata": {
        "id": "6uSy_JJRBVle"
      }
    },
    {
      "cell_type": "markdown",
      "source": [
        "2. Explain the concept of function arguments and parameters in Python.\n",
        "  - In Python, parameters are placeholders defined in a function's definition, while arguments are the actual values passed to the function when it's called.\n",
        "    - Example -\n",
        "              def add(x, y):  # x and y are parameters\n",
        "                  return x + y\n",
        "\n",
        "              result = add(5, 3)  # 5 and 3 are arguments\n",
        "              print(result)  # Output: 8"
      ],
      "metadata": {
        "id": "4s30LR4lBc9C"
      }
    },
    {
      "cell_type": "markdown",
      "source": [
        "3. What are the different ways to define and call a function in Python?\n",
        "  - Programmer define a function using the def keyword, followed by the function name, parentheses for parameters, a colon, and an indented code block. You call a function by writing its name followed by parentheses, optionally including arguments.\n",
        "     - Example of a function with no parameters :-\n",
        "              def say_hello():\n",
        "                  print(\"Hello!\")\n",
        "\n",
        "              #call the say_hello function :-  \n",
        "              say_hello()"
      ],
      "metadata": {
        "id": "ZCwEvfVGBocE"
      }
    },
    {
      "cell_type": "markdown",
      "source": [
        "4. What is the purpose of the `return` statement in a Python function?\n",
        " - The return statement is used to send a value back from a function to the caller, effectively ending the function's execution. If no value is specified, it returns None. Return statements can return data of any type, including integers, floats, strings, lists, dictionaries, and even other functions.\n",
        "    - Example\n",
        "        def add(x, y):  # x and y are parameters\n",
        "\n",
        "        total = x + y\n",
        "        \n",
        "        return total # Return the sum\n",
        "\n",
        "        result = add(5, 3)# Call the function and store the returned value\n",
        "        print(result)  # Output: 8"
      ],
      "metadata": {
        "id": "j8jBB5b2BuYx"
      }
    },
    {
      "cell_type": "markdown",
      "source": [
        "5. What are iterators in Python and how do they differ from iterables?\n",
        "  - An Iterable is basically an object that any user can iterate over. An Iterator is also an object that helps a user in iterating over another object (that is iterable). We can generate an iterator when we pass the object to the iter() method.\n",
        " - Iterable :- An iterable is any Python object that can return an iterator. It is an object that you can iterate (loop) over.\n",
        "\n",
        "      It implements the iter() method.\n",
        "\n",
        "      Examples: lists, tuples, strings, dictionaries, sets, etc.\n",
        "\n",
        "      my_list = [1, 2, 3, 4] #it is a iterable\n",
        "\n",
        "  - Iterator :- An iterator is an object that represents a stream of data. It allows you to iterate through all the elements one by one.\n",
        "\n",
        "      It implements both:\n",
        "\n",
        "      iter() → returns the iterator object itself.\n",
        "\n",
        "      next() → returns the next element or raises StopIteration when there are no more items.\n",
        "\n",
        "      example:-\n",
        "\n",
        "       # Get an iterator from the iterable\n",
        "         it = iter(my_list)\n",
        "\n",
        "       # Iterate using next()\n",
        "         print(next(it))   # 10"
      ],
      "metadata": {
        "id": "XKyChjRmA-_p"
      }
    },
    {
      "cell_type": "markdown",
      "source": [
        "6. Explain the concept of generators in Python and how they are defined.\n",
        "- generators are a type of iterable that produces values on demand, using the yield keyword, rather than storing them all in memory at once, making them memory-efficient, especially for large datasets.\n",
        "- How are they defined?\n",
        " - You define a generator function using the def keyword, just like regular functions, but instead of using return to exit, you use yield to produce a value and pause the function's execution.\n",
        "\n",
        " - Syntax of a Generator:\n",
        "        def generator_function():\n",
        "            yield value  # yield produces a value and pauses the function's execution\n",
        "- Example :-  \n",
        "        def count_up_to(max):\n",
        "            count = 1\n",
        "            while count <= max:\n",
        "                yield count  # Yield current count and pause execution\n",
        "            count += 1\n",
        "\n",
        "     # Using the generator\n",
        "counter = count_up_to(5)\n",
        "for num in counter:\n",
        "    print(num)\n"
      ],
      "metadata": {
        "id": "nNRIS9N2HIMI"
      }
    },
    {
      "cell_type": "markdown",
      "source": [
        "7. What are the advantages of using generators over regular functions?\n",
        "- Generators offer advantages over regular functions, particularly in memory efficiency and performance, by yielding values one at a time instead of storing the entire sequence, making them ideal for large datasets or infinite sequences.\n",
        "  - 1 - Memory Efficiency: Only generates one value at a time, avoiding large memory usage.\n",
        "\n",
        "  - 2 Lazy Evaluation: Values are computed only when requested, leading to faster execution and less unnecessary computation.\n",
        "\n",
        "  - 3 Performance: Often faster when handling large or complex datasets, as values are processed on the fly.\n",
        "\n",
        "  - 4 Infinite Sequences: Perfect for representing infinite sequences like Fibonacci numbers, without memory concerns.\n",
        "\n",
        "  - 5 Cleaner Code: Reduces boilerplate code for managing iteration and allows you to write concise and maintainable code.\n",
        "\n",
        "  - 6 Composability: You can easily combine multiple generators to create complex pipelines for data processing.\n",
        "\n",
        "  xample:-\n",
        "\n",
        "\n",
        "     def even_numbers(n):\n",
        "          for i in range(2, n + 1, 2):\n",
        "              yield i\n",
        "\n",
        "      # Create a generator object\n",
        "      gen = even_numbers(10)\n",
        "\n",
        "      # Iterate and print values\n",
        "        for num in gen:\n",
        "            print(num)\n",
        "          \n",
        "          #output\n",
        "          2\n",
        "          4\n",
        "          6\n",
        "          8\n",
        "          10\n"
      ],
      "metadata": {
        "id": "syzw9OAFI7KJ"
      }
    },
    {
      "cell_type": "markdown",
      "source": [
        "8. What is a lambda function in Python and when is it typically used?\n",
        "- a lambda function is a small, anonymous, one-time-use function defined using the lambda keyword, suitable for simple operations and often used as arguments to higher-order functions like map, filter, and sorted.\n",
        "- typically used :-  Lambda functions are typically used in situations where a simple function is needed for a short period and defining a full function using def is unnecessary.\n",
        "  - Example :-  \n",
        "        # A simple lambda function that adds two numbers\n",
        "          add = lambda x, y: x + y\n",
        "          print(add(3, 5))  # Output: 8\n",
        "\n"
      ],
      "metadata": {
        "id": "H3jcuvCwJ9AY"
      }
    },
    {
      "cell_type": "markdown",
      "source": [
        "9. Explain the purpose and usage of the `map()` function in Python.\n",
        "- The map() function in Python applies a given function to each item in an iterable (like a list, tuple, or string) and returns an iterator that yields the results.\n",
        "- syntac :-  map(function,iterables)\n",
        "- Example : -   \n",
        "      # Function to double a number\n",
        "      def double(x):\n",
        "          return x * 2\n",
        "\n",
        "      # List of numbers\n",
        "      numbers = [1, 2, 3, 4]\n",
        "\n",
        "      # Applying 'double' function to each item in the list\n",
        "      result = map(double, numbers)\n",
        "\n",
        "      # Convert the result to a list and print it\n",
        "      print(list(result))  # Output: [2, 4, 6, 8]\n"
      ],
      "metadata": {
        "id": "Vz4Mwom1MSoh"
      }
    },
    {
      "cell_type": "markdown",
      "source": [
        "10. What is the difference between `map()`, `reduce()`, and `filter()` functions in Python?\n",
        "- 1. map() Function :-  The map() function applies a given function to each item of an iterable (or multiple iterables) and returns an iterator that produces the results\n",
        "      syntax :-  map(function, iterable, ...)\n",
        "      Example :-   # Example using map to square numbers in a list\n",
        "            numbers = [1, 2, 3, 4]\n",
        "            result = map(lambda x: x ** 2, numbers)\n",
        "            print(list(result))  # Output: [1, 4, 9, 16]\n",
        "- 2. reduce() Function :-  The reduce() function, unlike map(), reduces an iterable to a single value by applying a binary function (i.e., a function that takes two arguments) cumulatively to the items of the iterable.\n",
        "          syntax :-   \n",
        "        from functools import reduce\n",
        "      \n",
        "        reduce(function, iterable, [initial])\n",
        "\n",
        "- 3. filter() Function :-  Filter elements from an iterable based on a condition defined by the function.\n",
        "          syntax :-  \n",
        "          filter(function, iterable)\n"
      ],
      "metadata": {
        "id": "JxWzt5uNc_7f"
      }
    },
    {
      "cell_type": "markdown",
      "source": [
        "11. Using pen & Paper write the internal mechanism for sum operation using  reduce function on this given\n",
        "list:[47,11,42,13];\n",
        "\n",
        "![photo_2025-04-02_21-01-55.jpg](data:image/jpeg;base64,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)"
      ],
      "metadata": {
        "id": "R80d9FMPr9Qz"
      }
    },
    {
      "cell_type": "code",
      "source": [
        "from functools import reduce\n",
        "l = [47,11,42,13]\n",
        "\n",
        "reduce(lambda x,y :x+y , l)"
      ],
      "metadata": {
        "colab": {
          "base_uri": "https://localhost:8080/"
        },
        "id": "ZwOXCV4LGC9s",
        "outputId": "49008c76-ff5a-4baa-9e87-56e04268dce3"
      },
      "execution_count": 117,
      "outputs": [
        {
          "output_type": "execute_result",
          "data": {
            "text/plain": [
              "113"
            ]
          },
          "metadata": {},
          "execution_count": 117
        }
      ]
    },
    {
      "cell_type": "markdown",
      "source": [
        "#Practical Questions:"
      ],
      "metadata": {
        "id": "MaM4YZf3KRBv"
      }
    },
    {
      "cell_type": "markdown",
      "source": [
        "1. Write a Python function that takes a list of numbers as input and returns the sum of all even numbers in\n",
        "the list."
      ],
      "metadata": {
        "id": "QIHZ-HXGr9On"
      }
    },
    {
      "cell_type": "code",
      "source": [
        "#1 -Write a Python function that takes a list of numbers as input and returns the sum of all even numbers in the list.\n",
        "\n",
        "def sum_evens(num):\n",
        "  # Initialize sum to 0\n",
        "    total_even = 0\n",
        "\n",
        "\n",
        "    # Iterate through the list\n",
        "    for i in num:\n",
        "      # Check if the number is even\n",
        "        if i%2== 0:\n",
        "            total_even += i\n",
        "    return [total_even]\n",
        "\n",
        "l =[1,2,3,4,5,6,7,8,9,10]\n",
        "result = sum_evens(l)\n",
        "print(result)"
      ],
      "metadata": {
        "id": "utYndlWTReVk",
        "colab": {
          "base_uri": "https://localhost:8080/"
        },
        "outputId": "95c44c60-e2d4-43e9-f0a4-6fbd6ceb6065"
      },
      "execution_count": null,
      "outputs": [
        {
          "output_type": "stream",
          "name": "stdout",
          "text": [
            "[30]\n"
          ]
        }
      ]
    },
    {
      "cell_type": "code",
      "source": [
        "#2- Create a Python function that accepts a string and returns the reverse of that string.\n",
        "\n",
        "def reverse_string(str1):\n",
        "\n",
        "    s = str1[::-1]\n",
        "    return s\n",
        "\n",
        "\n",
        "str1 = \"data analyst\"\n",
        "reverse_string(str1)"
      ],
      "metadata": {
        "id": "wemiBeC9c_tH",
        "colab": {
          "base_uri": "https://localhost:8080/",
          "height": 35
        },
        "outputId": "7c2ee3c9-d4f5-45bd-ab3a-2291558572b8"
      },
      "execution_count": 4,
      "outputs": [
        {
          "output_type": "execute_result",
          "data": {
            "text/plain": [
              "'tsylana atad'"
            ],
            "application/vnd.google.colaboratory.intrinsic+json": {
              "type": "string"
            }
          },
          "metadata": {},
          "execution_count": 4
        }
      ]
    },
    {
      "cell_type": "code",
      "source": [
        "#3- Implement a Python function that takes a list of integers and returns a new list containing the squares of each number.\n",
        "\n",
        "def sq(x):\n",
        "    # This function takes a number 'x' and returns its square (x raised to the power of 2)\n",
        "    return x **2\n",
        "\n",
        "# A list of integers\n",
        "l = [1, 2, 3, 4, 5, 6]\n",
        "\n",
        "#  Using the map function to apply the 'sq' function to each element in the list 'l'\n",
        "list(map(sq,l)) # map() applies the sq() function to each item in the list 'l' and returns a map object"
      ],
      "metadata": {
        "id": "snBSVhLKc_dY",
        "colab": {
          "base_uri": "https://localhost:8080/"
        },
        "outputId": "140a820e-485d-4210-ffb2-d6774a3a5c90"
      },
      "execution_count": 6,
      "outputs": [
        {
          "output_type": "execute_result",
          "data": {
            "text/plain": [
              "[1, 4, 9, 16, 25, 36]"
            ]
          },
          "metadata": {},
          "execution_count": 6
        }
      ]
    },
    {
      "cell_type": "code",
      "source": [
        "def square_numbers(int_list):\n",
        "\n",
        "  # Create a new list by squaring each element in int_list\n",
        "    return [x ** 2 for x in int_list] # List comprehension: for each 'x' in the input list, square 'x' and create a new list\n",
        "\n",
        "\n",
        "numbers = [1, 2, 3, 4, 5]\n",
        "squared_numbers = square_numbers(numbers)\n",
        "print(squared_numbers)\n"
      ],
      "metadata": {
        "colab": {
          "base_uri": "https://localhost:8080/"
        },
        "id": "2_88_FeH2f5j",
        "outputId": "652f564b-f0a7-4772-e16c-35f12832fef5"
      },
      "execution_count": 7,
      "outputs": [
        {
          "output_type": "stream",
          "name": "stdout",
          "text": [
            "[1, 4, 9, 16, 25]\n"
          ]
        }
      ]
    },
    {
      "cell_type": "code",
      "source": [
        "#4- Write a Python function that checks if a given number is prime or not from 1 to 200.\n",
        "\n",
        "def prime_number(num):\n",
        "    # Prime check logic: numbers less than 2 are not prime\n",
        "    if num < 2:\n",
        "        return False\n",
        "\n",
        "    n =1 # Assume number is prime (1 means prime)\n",
        "\n",
        "    # Check divisibility from 2 to num-1\n",
        "    for i in range(2, num):  # Check divisors from 2 to num-1\n",
        "        if num % i == 0:\n",
        "            n = 0  # If divisible, it's not prime (set n to 0)\n",
        "            break  # No need to check further if already found a divisor\n",
        "    return n == 1 # If n is still 1, the number is prime\n",
        "\n",
        "\n",
        "# Check if the number is prime and print the result\n",
        "for num in range(1, 201):\n",
        "    if prime_number(num):\n",
        "        print(f\"{num} is a prime number\")\n",
        "    else:\n",
        "        print(f\"{num} is not a prime number\")\n"
      ],
      "metadata": {
        "colab": {
          "base_uri": "https://localhost:8080/"
        },
        "id": "rHBs-Bwe2f2c",
        "outputId": "08929e86-fb55-4be8-98b5-f80f2fed1b86"
      },
      "execution_count": 23,
      "outputs": [
        {
          "output_type": "stream",
          "name": "stdout",
          "text": [
            "1 is not a prime number\n",
            "2 is a prime number\n",
            "3 is a prime number\n",
            "4 is not a prime number\n",
            "5 is a prime number\n",
            "6 is not a prime number\n",
            "7 is a prime number\n",
            "8 is not a prime number\n",
            "9 is not a prime number\n",
            "10 is not a prime number\n",
            "11 is a prime number\n",
            "12 is not a prime number\n",
            "13 is a prime number\n",
            "14 is not a prime number\n",
            "15 is not a prime number\n",
            "16 is not a prime number\n",
            "17 is a prime number\n",
            "18 is not a prime number\n",
            "19 is a prime number\n",
            "20 is not a prime number\n",
            "21 is not a prime number\n",
            "22 is not a prime number\n",
            "23 is a prime number\n",
            "24 is not a prime number\n",
            "25 is not a prime number\n",
            "26 is not a prime number\n",
            "27 is not a prime number\n",
            "28 is not a prime number\n",
            "29 is a prime number\n",
            "30 is not a prime number\n",
            "31 is a prime number\n",
            "32 is not a prime number\n",
            "33 is not a prime number\n",
            "34 is not a prime number\n",
            "35 is not a prime number\n",
            "36 is not a prime number\n",
            "37 is a prime number\n",
            "38 is not a prime number\n",
            "39 is not a prime number\n",
            "40 is not a prime number\n",
            "41 is a prime number\n",
            "42 is not a prime number\n",
            "43 is a prime number\n",
            "44 is not a prime number\n",
            "45 is not a prime number\n",
            "46 is not a prime number\n",
            "47 is a prime number\n",
            "48 is not a prime number\n",
            "49 is not a prime number\n",
            "50 is not a prime number\n",
            "51 is not a prime number\n",
            "52 is not a prime number\n",
            "53 is a prime number\n",
            "54 is not a prime number\n",
            "55 is not a prime number\n",
            "56 is not a prime number\n",
            "57 is not a prime number\n",
            "58 is not a prime number\n",
            "59 is a prime number\n",
            "60 is not a prime number\n",
            "61 is a prime number\n",
            "62 is not a prime number\n",
            "63 is not a prime number\n",
            "64 is not a prime number\n",
            "65 is not a prime number\n",
            "66 is not a prime number\n",
            "67 is a prime number\n",
            "68 is not a prime number\n",
            "69 is not a prime number\n",
            "70 is not a prime number\n",
            "71 is a prime number\n",
            "72 is not a prime number\n",
            "73 is a prime number\n",
            "74 is not a prime number\n",
            "75 is not a prime number\n",
            "76 is not a prime number\n",
            "77 is not a prime number\n",
            "78 is not a prime number\n",
            "79 is a prime number\n",
            "80 is not a prime number\n",
            "81 is not a prime number\n",
            "82 is not a prime number\n",
            "83 is a prime number\n",
            "84 is not a prime number\n",
            "85 is not a prime number\n",
            "86 is not a prime number\n",
            "87 is not a prime number\n",
            "88 is not a prime number\n",
            "89 is a prime number\n",
            "90 is not a prime number\n",
            "91 is not a prime number\n",
            "92 is not a prime number\n",
            "93 is not a prime number\n",
            "94 is not a prime number\n",
            "95 is not a prime number\n",
            "96 is not a prime number\n",
            "97 is a prime number\n",
            "98 is not a prime number\n",
            "99 is not a prime number\n",
            "100 is not a prime number\n",
            "101 is a prime number\n",
            "102 is not a prime number\n",
            "103 is a prime number\n",
            "104 is not a prime number\n",
            "105 is not a prime number\n",
            "106 is not a prime number\n",
            "107 is a prime number\n",
            "108 is not a prime number\n",
            "109 is a prime number\n",
            "110 is not a prime number\n",
            "111 is not a prime number\n",
            "112 is not a prime number\n",
            "113 is a prime number\n",
            "114 is not a prime number\n",
            "115 is not a prime number\n",
            "116 is not a prime number\n",
            "117 is not a prime number\n",
            "118 is not a prime number\n",
            "119 is not a prime number\n",
            "120 is not a prime number\n",
            "121 is not a prime number\n",
            "122 is not a prime number\n",
            "123 is not a prime number\n",
            "124 is not a prime number\n",
            "125 is not a prime number\n",
            "126 is not a prime number\n",
            "127 is a prime number\n",
            "128 is not a prime number\n",
            "129 is not a prime number\n",
            "130 is not a prime number\n",
            "131 is a prime number\n",
            "132 is not a prime number\n",
            "133 is not a prime number\n",
            "134 is not a prime number\n",
            "135 is not a prime number\n",
            "136 is not a prime number\n",
            "137 is a prime number\n",
            "138 is not a prime number\n",
            "139 is a prime number\n",
            "140 is not a prime number\n",
            "141 is not a prime number\n",
            "142 is not a prime number\n",
            "143 is not a prime number\n",
            "144 is not a prime number\n",
            "145 is not a prime number\n",
            "146 is not a prime number\n",
            "147 is not a prime number\n",
            "148 is not a prime number\n",
            "149 is a prime number\n",
            "150 is not a prime number\n",
            "151 is a prime number\n",
            "152 is not a prime number\n",
            "153 is not a prime number\n",
            "154 is not a prime number\n",
            "155 is not a prime number\n",
            "156 is not a prime number\n",
            "157 is a prime number\n",
            "158 is not a prime number\n",
            "159 is not a prime number\n",
            "160 is not a prime number\n",
            "161 is not a prime number\n",
            "162 is not a prime number\n",
            "163 is a prime number\n",
            "164 is not a prime number\n",
            "165 is not a prime number\n",
            "166 is not a prime number\n",
            "167 is a prime number\n",
            "168 is not a prime number\n",
            "169 is not a prime number\n",
            "170 is not a prime number\n",
            "171 is not a prime number\n",
            "172 is not a prime number\n",
            "173 is a prime number\n",
            "174 is not a prime number\n",
            "175 is not a prime number\n",
            "176 is not a prime number\n",
            "177 is not a prime number\n",
            "178 is not a prime number\n",
            "179 is a prime number\n",
            "180 is not a prime number\n",
            "181 is a prime number\n",
            "182 is not a prime number\n",
            "183 is not a prime number\n",
            "184 is not a prime number\n",
            "185 is not a prime number\n",
            "186 is not a prime number\n",
            "187 is not a prime number\n",
            "188 is not a prime number\n",
            "189 is not a prime number\n",
            "190 is not a prime number\n",
            "191 is a prime number\n",
            "192 is not a prime number\n",
            "193 is a prime number\n",
            "194 is not a prime number\n",
            "195 is not a prime number\n",
            "196 is not a prime number\n",
            "197 is a prime number\n",
            "198 is not a prime number\n",
            "199 is a prime number\n",
            "200 is not a prime number\n"
          ]
        }
      ]
    },
    {
      "cell_type": "code",
      "source": [
        "#5- Create an iterator class in Python that generates the Fibonacci sequence up to a specified number of terms.\n",
        "\n",
        "def fib(n):\n",
        "    a = 0\n",
        "    b = 1\n",
        "    for i in range(n): # Generate 'n' Fibonacci numbers\n",
        "        yield a\n",
        "        a, b = b, a+b# Update a and b to the next Fibonacci numbers\n",
        "\n",
        "\n",
        "# Create a generator object that will produce Fibonacci numbers\n",
        "f = fib(10)\n",
        "# Print the first Fibonacci number (using next())\n",
        "print(next(f))  # Prints: 0\n"
      ],
      "metadata": {
        "colab": {
          "base_uri": "https://localhost:8080/"
        },
        "id": "7Pdlyk3Y2fz5",
        "outputId": "ea8a8285-f396-48b6-b41d-a38cd6c5af80"
      },
      "execution_count": 36,
      "outputs": [
        {
          "output_type": "stream",
          "name": "stdout",
          "text": [
            "0\n"
          ]
        }
      ]
    },
    {
      "cell_type": "code",
      "source": [
        "print(next(f))"
      ],
      "metadata": {
        "colab": {
          "base_uri": "https://localhost:8080/"
        },
        "id": "ELBSCzzx2flZ",
        "outputId": "9666c0dc-b210-483c-ea71-7f7a8f75d67a"
      },
      "execution_count": 25,
      "outputs": [
        {
          "output_type": "stream",
          "name": "stdout",
          "text": [
            "1\n"
          ]
        }
      ]
    },
    {
      "cell_type": "code",
      "source": [
        "print(next(f))"
      ],
      "metadata": {
        "colab": {
          "base_uri": "https://localhost:8080/"
        },
        "id": "hqNe_MPCFt7F",
        "outputId": "272e936b-7917-4579-daea-1e8aca579388"
      },
      "execution_count": 26,
      "outputs": [
        {
          "output_type": "stream",
          "name": "stdout",
          "text": [
            "1\n"
          ]
        }
      ]
    },
    {
      "cell_type": "code",
      "source": [
        "print(next(f))"
      ],
      "metadata": {
        "colab": {
          "base_uri": "https://localhost:8080/"
        },
        "id": "6dscHYawFt1h",
        "outputId": "42c00d51-a089-45e7-de90-7d9b6ca90633"
      },
      "execution_count": 27,
      "outputs": [
        {
          "output_type": "stream",
          "name": "stdout",
          "text": [
            "2\n"
          ]
        }
      ]
    },
    {
      "cell_type": "code",
      "source": [
        "print(next(f))"
      ],
      "metadata": {
        "colab": {
          "base_uri": "https://localhost:8080/"
        },
        "id": "IWHECeLcFtse",
        "outputId": "f10a4b96-ae99-4880-adf9-d5e97baecd58"
      },
      "execution_count": 28,
      "outputs": [
        {
          "output_type": "stream",
          "name": "stdout",
          "text": [
            "3\n"
          ]
        }
      ]
    },
    {
      "cell_type": "code",
      "source": [
        "print(next(f))"
      ],
      "metadata": {
        "colab": {
          "base_uri": "https://localhost:8080/"
        },
        "id": "1gPU9Qv-FtoL",
        "outputId": "92faa9d0-2a19-4593-94e6-a859f74ced8c"
      },
      "execution_count": 29,
      "outputs": [
        {
          "output_type": "stream",
          "name": "stdout",
          "text": [
            "5\n"
          ]
        }
      ]
    },
    {
      "cell_type": "code",
      "source": [
        "print(next(f))"
      ],
      "metadata": {
        "colab": {
          "base_uri": "https://localhost:8080/"
        },
        "id": "-HMQXNm_Ftjv",
        "outputId": "8c301ef6-12ab-4f5b-811a-f218e5251076"
      },
      "execution_count": 30,
      "outputs": [
        {
          "output_type": "stream",
          "name": "stdout",
          "text": [
            "8\n"
          ]
        }
      ]
    },
    {
      "cell_type": "code",
      "source": [
        "print(next(f))"
      ],
      "metadata": {
        "colab": {
          "base_uri": "https://localhost:8080/"
        },
        "id": "qpEaLXOtFtgF",
        "outputId": "3e8d37d8-dc3c-49f2-fc54-a6be32b7fc2d"
      },
      "execution_count": 31,
      "outputs": [
        {
          "output_type": "stream",
          "name": "stdout",
          "text": [
            "13\n"
          ]
        }
      ]
    },
    {
      "cell_type": "code",
      "source": [
        "print(next(f))"
      ],
      "metadata": {
        "colab": {
          "base_uri": "https://localhost:8080/"
        },
        "id": "xNOCouPPFtb9",
        "outputId": "bf5cfc4e-873d-4a7f-aa00-445ecc51fa46"
      },
      "execution_count": 32,
      "outputs": [
        {
          "output_type": "stream",
          "name": "stdout",
          "text": [
            "21\n"
          ]
        }
      ]
    },
    {
      "cell_type": "code",
      "source": [
        "print(next(f))"
      ],
      "metadata": {
        "colab": {
          "base_uri": "https://localhost:8080/"
        },
        "id": "an9IccJqFtX_",
        "outputId": "b4f214b6-707a-4cef-eb2a-2a9291f3a367"
      },
      "execution_count": 33,
      "outputs": [
        {
          "output_type": "stream",
          "name": "stdout",
          "text": [
            "34\n"
          ]
        }
      ]
    },
    {
      "cell_type": "code",
      "source": [
        "# Alternatively, you can loop over the generator to get all Fibonacci numbers:\n",
        "for num in fib(10):\n",
        "    print(num)"
      ],
      "metadata": {
        "colab": {
          "base_uri": "https://localhost:8080/"
        },
        "id": "xpo8upgZFtQB",
        "outputId": "7fcd2f0d-8d43-4913-ef7a-1d9e277c7cb1"
      },
      "execution_count": 37,
      "outputs": [
        {
          "output_type": "stream",
          "name": "stdout",
          "text": [
            "0\n",
            "1\n",
            "1\n",
            "2\n",
            "3\n",
            "5\n",
            "8\n",
            "13\n",
            "21\n",
            "34\n"
          ]
        }
      ]
    },
    {
      "cell_type": "code",
      "source": [
        "#6- Write a generator function in Python that yields the powers of 2 up to a given exponent.\n",
        "\n",
        "def give_exponent(n):\n",
        "    for i in range(1,n): # Generates powers of 2 from 2^0 to 2^(n-1)\n",
        "        yield 2**i # Yield 2 raised to the power of i\n",
        "\n",
        "# Create a generator object\n",
        "f = give_exponent(10)\n",
        "# Print the first power of 2 using next()\n",
        "print(next(f))"
      ],
      "metadata": {
        "colab": {
          "base_uri": "https://localhost:8080/"
        },
        "id": "9NmogMTfG-rB",
        "outputId": "e17ab275-02c8-485e-b113-8d59a4a6e929"
      },
      "execution_count": 60,
      "outputs": [
        {
          "output_type": "stream",
          "name": "stdout",
          "text": [
            "2\n"
          ]
        }
      ]
    },
    {
      "cell_type": "code",
      "source": [
        "print(next(f))"
      ],
      "metadata": {
        "colab": {
          "base_uri": "https://localhost:8080/"
        },
        "id": "WB2kcGfeG-oT",
        "outputId": "eff417be-488c-41e3-e404-2fbb3539781d"
      },
      "execution_count": 61,
      "outputs": [
        {
          "output_type": "stream",
          "name": "stdout",
          "text": [
            "4\n"
          ]
        }
      ]
    },
    {
      "cell_type": "code",
      "source": [
        "print(next(f))"
      ],
      "metadata": {
        "colab": {
          "base_uri": "https://localhost:8080/"
        },
        "id": "ijuBxwj_G-ej",
        "outputId": "dde67d92-c02c-4d2d-cfcd-b7baa1177f47"
      },
      "execution_count": 55,
      "outputs": [
        {
          "output_type": "stream",
          "name": "stdout",
          "text": [
            "8\n"
          ]
        }
      ]
    },
    {
      "cell_type": "code",
      "source": [
        "print(next(f))"
      ],
      "metadata": {
        "colab": {
          "base_uri": "https://localhost:8080/"
        },
        "id": "UC5HmYTGG-ac",
        "outputId": "c40bdc03-1b85-4d23-8eb0-d38ff6cbecf4"
      },
      "execution_count": 62,
      "outputs": [
        {
          "output_type": "stream",
          "name": "stdout",
          "text": [
            "8\n"
          ]
        }
      ]
    },
    {
      "cell_type": "code",
      "source": [
        "print(next(f))"
      ],
      "metadata": {
        "colab": {
          "base_uri": "https://localhost:8080/"
        },
        "id": "oGClU2izKN_P",
        "outputId": "1d291491-1532-4c1b-fa16-28d54c24411a"
      },
      "execution_count": 63,
      "outputs": [
        {
          "output_type": "stream",
          "name": "stdout",
          "text": [
            "16\n"
          ]
        }
      ]
    },
    {
      "cell_type": "code",
      "source": [
        "print(next(f))"
      ],
      "metadata": {
        "colab": {
          "base_uri": "https://localhost:8080/"
        },
        "id": "wzuY4MREKN8V",
        "outputId": "c2f16b7e-36c9-48b3-d59d-646860d67450"
      },
      "execution_count": 64,
      "outputs": [
        {
          "output_type": "stream",
          "name": "stdout",
          "text": [
            "32\n"
          ]
        }
      ]
    },
    {
      "cell_type": "code",
      "source": [
        "print(next(f))"
      ],
      "metadata": {
        "colab": {
          "base_uri": "https://localhost:8080/"
        },
        "id": "hjX8UVhyKN5a",
        "outputId": "50da2d45-dd79-44fb-afbf-4e84ce14329d"
      },
      "execution_count": 65,
      "outputs": [
        {
          "output_type": "stream",
          "name": "stdout",
          "text": [
            "64\n"
          ]
        }
      ]
    },
    {
      "cell_type": "code",
      "source": [
        "print(next(f))"
      ],
      "metadata": {
        "colab": {
          "base_uri": "https://localhost:8080/"
        },
        "id": "PgPoVN0uKN24",
        "outputId": "508e03e4-6af1-4dc8-9322-1c35fb4d5344"
      },
      "execution_count": 66,
      "outputs": [
        {
          "output_type": "stream",
          "name": "stdout",
          "text": [
            "128\n"
          ]
        }
      ]
    },
    {
      "cell_type": "code",
      "source": [
        "print(next(f))"
      ],
      "metadata": {
        "colab": {
          "base_uri": "https://localhost:8080/"
        },
        "id": "1tNE0B92KN0A",
        "outputId": "44adebd0-bdeb-4634-f1c8-8c73ee94af4e"
      },
      "execution_count": 67,
      "outputs": [
        {
          "output_type": "stream",
          "name": "stdout",
          "text": [
            "256\n"
          ]
        }
      ]
    },
    {
      "cell_type": "code",
      "source": [
        "print(next(f))"
      ],
      "metadata": {
        "colab": {
          "base_uri": "https://localhost:8080/"
        },
        "id": "lYYvZ2r4KNx3",
        "outputId": "3807b65e-c7b9-4bc7-d358-56b8c7c29f05"
      },
      "execution_count": 68,
      "outputs": [
        {
          "output_type": "stream",
          "name": "stdout",
          "text": [
            "512\n"
          ]
        }
      ]
    },
    {
      "cell_type": "code",
      "source": [
        "# Or loop through the generator to get all powers of 2\n",
        "for power in give_exponent(10):\n",
        "    print(power)"
      ],
      "metadata": {
        "colab": {
          "base_uri": "https://localhost:8080/"
        },
        "id": "ngtwa2ALKNtS",
        "outputId": "deb9b93a-22ee-4da3-b1ed-3d6f20f10a2f"
      },
      "execution_count": 69,
      "outputs": [
        {
          "output_type": "stream",
          "name": "stdout",
          "text": [
            "2\n",
            "4\n",
            "8\n",
            "16\n",
            "32\n",
            "64\n",
            "128\n",
            "256\n",
            "512\n"
          ]
        }
      ]
    },
    {
      "cell_type": "code",
      "source": [
        "import io\n",
        "#7- Implement a generator function that reads a file line by line and yields each line as a string.\n",
        "\n",
        "# Simulate a file using StringIO\n",
        "f = \"\"\"Hello, world!\n",
        "This is the second line.\n",
        "Here's the third line.\"\"\"\n",
        "\n",
        "# Generator function to read the file line by line\n",
        "def file_line(file):\n",
        "\n",
        "    for line in file:\n",
        "        yield line.strip() # strip() to remove the newline characters\n",
        "\n",
        "\n",
        "# Convert the string `f` to a file-like object using StringIO\n",
        "file_like_object = io.StringIO(f)\n",
        "# Create a generator object\n",
        "gen = file_line(file_like_object)\n",
        "# Get the first line using next()\n",
        "print(next(gen))  # Output: \"Hello, world!\""
      ],
      "metadata": {
        "colab": {
          "base_uri": "https://localhost:8080/"
        },
        "id": "uVKBa5PUKNpC",
        "outputId": "be5259eb-5774-4945-d8a9-7e9b5c165e05"
      },
      "execution_count": 82,
      "outputs": [
        {
          "output_type": "stream",
          "name": "stdout",
          "text": [
            "Hello, world!\n"
          ]
        }
      ]
    },
    {
      "cell_type": "code",
      "source": [
        "print(next(gen)) # Get the second line"
      ],
      "metadata": {
        "colab": {
          "base_uri": "https://localhost:8080/"
        },
        "id": "XPL5wxNpW20Q",
        "outputId": "60f2a402-d073-4dc0-a6f6-96df9e745e44"
      },
      "execution_count": 83,
      "outputs": [
        {
          "output_type": "stream",
          "name": "stdout",
          "text": [
            "This is the second line.\n"
          ]
        }
      ]
    },
    {
      "cell_type": "code",
      "source": [
        "print(next(gen)) # Get the third line"
      ],
      "metadata": {
        "colab": {
          "base_uri": "https://localhost:8080/"
        },
        "id": "XWwZQFqAW2xR",
        "outputId": "909c349e-e9e0-47b8-f531-71e1474c4e6c"
      },
      "execution_count": 84,
      "outputs": [
        {
          "output_type": "stream",
          "name": "stdout",
          "text": [
            "Here's the third line.\n"
          ]
        }
      ]
    },
    {
      "cell_type": "code",
      "source": [
        "#8- Use a lambda function in Python to sort a list of tuples based on the second element of each tuple.\n",
        "\n",
        "# List of tuples\n",
        "tuples_list = [(1, 3), (4, 1), (2, 2), (5, 4)]\n",
        "\n",
        "# Sort the list based on the second element of each tuple using a lambda function\n",
        "sorted_list = sorted(tuples_list, key=lambda x: x[1])\n",
        "\n",
        "# Print the sorted list\n",
        "print(sorted_list)"
      ],
      "metadata": {
        "colab": {
          "base_uri": "https://localhost:8080/"
        },
        "id": "5HtzZhjdW2nF",
        "outputId": "6eaf4e46-b72f-45fc-a9a8-1d76304ffe9f"
      },
      "execution_count": 91,
      "outputs": [
        {
          "output_type": "stream",
          "name": "stdout",
          "text": [
            "[(4, 1), (2, 2), (1, 3), (5, 4)]\n"
          ]
        }
      ]
    },
    {
      "cell_type": "code",
      "source": [
        "#9- Write a Python program that uses `map()` to convert a list of temperatures from Celsius to Fahrenheit.\n",
        "\n",
        "# List of temperatures in Celsius\n",
        "celsius_temps = [0, 20, 25, 30, 35, 40]\n",
        "\n",
        "# Function to convert Celsius to Fahrenheit\n",
        "def celsius_to_fahrenheit(celsius):\n",
        "    return (celsius * 9/5) + 32\n",
        "\n",
        "\n",
        "# Use map() to apply the conversion function to each element in the list\n",
        "fahrenheit_temp = list(map(celsius_to_fahrenheit,celsius_temps))\n",
        "\n",
        "print(fahrenheit_temp)"
      ],
      "metadata": {
        "colab": {
          "base_uri": "https://localhost:8080/"
        },
        "id": "UTzwKpcfKNmI",
        "outputId": "cb22b4be-45b7-4c24-9609-80d17e98b425"
      },
      "execution_count": 94,
      "outputs": [
        {
          "output_type": "stream",
          "name": "stdout",
          "text": [
            "[32.0, 68.0, 77.0, 86.0, 95.0, 104.0]\n"
          ]
        }
      ]
    },
    {
      "cell_type": "code",
      "source": [
        "\n",
        "#10. Create a Python program that uses `filter()` to remove all the vowels from a given string.\n",
        "\n",
        "# Function to check if a character is a vowel\n",
        "def remove_vowels(word):\n",
        "    vowels = \"aeiouAEIOU\"\n",
        "\n",
        "    return word not in vowels\n",
        "# Input string\n",
        "str1 = \"hello world\"\n",
        "\n",
        "# Use filter() to remove vowels from the string\n",
        "filtered_string = ''.join(filter(remove_vowels, str1))\n",
        "\n",
        "# Print the resulting string\n",
        "print(filtered_string)\n"
      ],
      "metadata": {
        "colab": {
          "base_uri": "https://localhost:8080/"
        },
        "id": "z_C_0Xargs_D",
        "outputId": "68475e9a-34cb-4c93-cd08-88b37aaa54f7"
      },
      "execution_count": 110,
      "outputs": [
        {
          "output_type": "stream",
          "name": "stdout",
          "text": [
            "hll wrld\n"
          ]
        }
      ]
    },
    {
      "cell_type": "code",
      "source": [
        "#Second method using lambda function\n",
        "\n",
        "# Input string\n",
        "str1 = \"hello world\"\n",
        "vowels = \"aeiouAEIOU\"\n",
        "# Use filter() to remove vowels from the string\n",
        "filtered_string = \"\".join(filter(lambda char : char not in vowels, str1))\n",
        "\n",
        "# Print the resulting string\n",
        "print(filtered_string)"
      ],
      "metadata": {
        "colab": {
          "base_uri": "https://localhost:8080/"
        },
        "id": "b6P8JmyCm4sc",
        "outputId": "8223c677-f052-4c81-8f31-f22edd33fcb1"
      },
      "execution_count": 113,
      "outputs": [
        {
          "output_type": "stream",
          "name": "stdout",
          "text": [
            "hll wrld\n"
          ]
        }
      ]
    },
    {
      "cell_type": "code",
      "source": [
        "#11) Imagine an accounting routine used in a book shop. It works on a list with sublists, which look like this:\n",
        "\"\"\"Write a Python program, which returns a list with 2-tuples.\n",
        " Each tuple consists of the order number and the product of the price per item and the quantity.\n",
        "The product should be increased by 10,- € if the value of the order is smaller than 100,00 €.\"\"\"\n",
        "#Write a Python program using lambda and map.\n",
        "\n",
        "# Problem Overview:- The input is a list of sublists, where each sublist represents an order. For example:\n",
        "orders = [\n",
        "    [34587, 40.95, 4], # Order 1: 40.95 (Price per item) * 4 (Quantity) = 163.8 Since 163.8 is not less than 100€\n",
        "    [98762, 56.80, 5], # Order 2: 56.80 (Price per item) * 5 (Quantity) = 284 agin 284 is not less than 100€\n",
        "    [77226, 32.95, 3], # Order 3: 32.95 (Price per item) * 3 (Quantity) = 98.85 Since 98.85€ is less than 100€, we add 10€ to it, resulting in 108.85€.\n",
        "    [88112, 24.99, 3] # Order 4: 24.99 (Price per item) * 3 (Quantity) = 74.97 Since 74.97€ is less than 100€, we add 10€ to it, resulting in 84.97€\n",
        "]\n",
        "\n",
        "\n",
        "# Use map() with a lambda function to process the orders\n",
        "result = list(map(lambda order: (order[0], (order[1] * order[2]) + 10 if order[1] * order[2] < 100 else order[1] * order[2]), orders))\n",
        "\n",
        "# Print the result\n",
        "print(result)\n"
      ],
      "metadata": {
        "colab": {
          "base_uri": "https://localhost:8080/"
        },
        "id": "NekKPVF3m4nU",
        "outputId": "9b31a945-688f-4c77-e05e-a4035c83413c"
      },
      "execution_count": 115,
      "outputs": [
        {
          "output_type": "stream",
          "name": "stdout",
          "text": [
            "[(34587, 163.8), (98762, 284.0), (77226, 108.85000000000001), (88112, 84.97)]\n"
          ]
        }
      ]
    },
    {
      "cell_type": "code",
      "source": [],
      "metadata": {
        "id": "LrhENCAbm4hO"
      },
      "execution_count": null,
      "outputs": []
    },
    {
      "cell_type": "code",
      "source": [],
      "metadata": {
        "id": "1c-elshdm4ZV"
      },
      "execution_count": null,
      "outputs": []
    },
    {
      "cell_type": "code",
      "source": [],
      "metadata": {
        "id": "zRSzxrULgs5Q"
      },
      "execution_count": null,
      "outputs": []
    }
  ]
}